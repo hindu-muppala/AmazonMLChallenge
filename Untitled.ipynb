{
 "cells": [
  {
   "cell_type": "code",
   "execution_count": 6,
   "id": "aa20de80-c1e9-486e-be4f-c37ec84d3bc0",
   "metadata": {},
   "outputs": [],
   "source": [
    "import re\n",
    "import constants\n",
    "import os\n",
    "import requests\n",
    "import pandas as pd\n",
    "import multiprocessing\n",
    "import time\n",
    "from time import time as timer\n",
    "from tqdm import tqdm\n",
    "import numpy as np\n",
    "from pathlib import Path\n",
    "from functools import partial\n",
    "import requests\n",
    "import urllib\n",
    "from PIL import Image\n",
    "\n",
    "def common_mistake(unit):\n",
    "    if unit in constants.allowed_units:\n",
    "        return unit\n",
    "    if unit.replace('ter', 'tre') in constants.allowed_units:\n",
    "        return unit.replace('ter', 'tre')\n",
    "    if unit.replace('feet', 'foot') in constants.allowed_units:\n",
    "        return unit.replace('feet', 'foot')\n",
    "    return unit\n",
    "\n",
    "def parse_string(s):\n",
    "    s_stripped = \"\" if s==None or str(s)=='nan' else s.strip()\n",
    "    if s_stripped == \"\":\n",
    "        return None, None\n",
    "    pattern = re.compile(r'^-?\\d+(\\.\\d+)?\\s+[a-zA-Z\\s]+$')\n",
    "    if not pattern.match(s_stripped):\n",
    "        raise ValueError(\"Invalid format in {}\".format(s))\n",
    "    parts = s_stripped.split(maxsplit=1)\n",
    "    number = float(parts[0])\n",
    "    unit = common_mistake(parts[1])\n",
    "    if unit not in constants.allowed_units:\n",
    "        raise ValueError(\"Invalid unit [{}] found in {}. Allowed units: {}\".format(\n",
    "            unit, s, constants.allowed_units))\n",
    "    return number, unit\n",
    "\n",
    "\n",
    "def create_placeholder_image(image_save_path):\n",
    "    try:\n",
    "        placeholder_image = Image.new('RGB', (224, 224), color='black')\n",
    "        placeholder_image.save(image_save_path)\n",
    "    except Exception as e:\n",
    "        return\n",
    "\n",
    "def download_image(image_link, save_folder, retries=3, delay=3):\n",
    "    if not isinstance(image_link, str):\n",
    "        return\n",
    "\n",
    "    filename = Path(image_link).name\n",
    "    image_save_path = os.path.join(save_folder, filename)\n",
    "\n",
    "    if os.path.exists(image_save_path):\n",
    "        return\n",
    "\n",
    "    for _ in range(retries):\n",
    "        try:\n",
    "            urllib.request.urlretrieve(image_link, image_save_path)\n",
    "            return\n",
    "        except:\n",
    "            time.sleep(delay)\n",
    "    \n",
    "    create_placeholder_image(image_save_path) #Create a black placeholder image for invalid links/images\n",
    "\n",
    "def download_images(image_links, download_folder, allow_multiprocessing=True):\n",
    "    if not os.path.exists(download_folder):\n",
    "        os.makedirs(download_folder)\n",
    "\n",
    "    if allow_multiprocessing:\n",
    "        download_image_partial = partial(\n",
    "            download_image, save_folder=download_folder, retries=3, delay=3)\n",
    "\n",
    "        with multiprocessing.Pool(50) as pool:\n",
    "            list(tqdm(pool.imap(download_image_partial, image_links), total=len(image_links)))\n",
    "            pool.close()\n",
    "            pool.join()\n",
    "    else:\n",
    "        for image_link in tqdm(image_links, total=len(image_links)):\n",
    "            download_image(image_link, save_folder=download_folder, retries=3, delay=3)"
   ]
  },
  {
   "cell_type": "code",
   "execution_count": 2,
   "id": "2f0dc0c3-6956-4796-b8c9-192b5a7602ef",
   "metadata": {},
   "outputs": [
    {
     "name": "stdout",
     "output_type": "stream",
     "text": [
      "Collecting constants\n",
      "  Downloading constants-2023.2.0.tar.gz (5.4 kB)\n",
      "  Installing build dependencies: started\n",
      "  Installing build dependencies: finished with status 'done'\n",
      "  Getting requirements to build wheel: started\n",
      "  Getting requirements to build wheel: finished with status 'done'\n",
      "  Preparing metadata (pyproject.toml): started\n",
      "  Preparing metadata (pyproject.toml): finished with status 'done'\n",
      "Collecting tox (from constants)\n",
      "  Downloading tox-4.18.1-py3-none-any.whl.metadata (5.0 kB)\n",
      "INFO: pip is looking at multiple versions of constants to determine which version is compatible with other requirements. This could take a while.\n",
      "Collecting constants\n",
      "  Downloading constants-0.6.0.tar.gz (5.1 kB)\n",
      "  Installing build dependencies: started\n",
      "  Installing build dependencies: finished with status 'done'\n",
      "  Getting requirements to build wheel: started\n",
      "  Getting requirements to build wheel: finished with status 'done'\n",
      "  Preparing metadata (pyproject.toml): started\n",
      "  Preparing metadata (pyproject.toml): finished with status 'done'\n",
      "Building wheels for collected packages: constants\n",
      "  Building wheel for constants (pyproject.toml): started\n",
      "  Building wheel for constants (pyproject.toml): finished with status 'done'\n",
      "  Created wheel for constants: filename=constants-0.6.0-py3-none-any.whl size=5501 sha256=2a028b82491bfecad1b55ad592cdb64b04f24653880c92ff77cb6ee6f5905379\n",
      "  Stored in directory: c:\\users\\dell\\appdata\\local\\pip\\cache\\wheels\\ea\\80\\e2\\54a1b49aebd42ff47f2f298398e6b8f017bea15c5a70b0a1fa\n",
      "Successfully built constants\n",
      "Installing collected packages: constants\n",
      "Successfully installed constants-0.6.0\n"
     ]
    }
   ],
   "source": [
    "!pip install constants"
   ]
  },
  {
   "cell_type": "code",
   "execution_count": 2,
   "id": "0c2d3f00-8488-4d1d-bdf3-a8d965c5263d",
   "metadata": {},
   "outputs": [],
   "source": [
    "import pandas as pd"
   ]
  },
  {
   "cell_type": "code",
   "execution_count": 3,
   "id": "e28b685d-747c-4a91-98d3-72977f64822e",
   "metadata": {},
   "outputs": [],
   "source": [
    "f = pd.read_csv(r\"C:\\Users\\DELL\\application\\Amazon_ML\\66e31d6ee96cd_student_resource_3\\student_resource 3\\dataset\\train.csv\")"
   ]
  },
  {
   "cell_type": "code",
   "execution_count": 4,
   "id": "813c0cb3-52eb-4012-ad6f-19aaaa24a269",
   "metadata": {},
   "outputs": [
    {
     "data": {
      "text/html": [
       "<div>\n",
       "<style scoped>\n",
       "    .dataframe tbody tr th:only-of-type {\n",
       "        vertical-align: middle;\n",
       "    }\n",
       "\n",
       "    .dataframe tbody tr th {\n",
       "        vertical-align: top;\n",
       "    }\n",
       "\n",
       "    .dataframe thead th {\n",
       "        text-align: right;\n",
       "    }\n",
       "</style>\n",
       "<table border=\"1\" class=\"dataframe\">\n",
       "  <thead>\n",
       "    <tr style=\"text-align: right;\">\n",
       "      <th></th>\n",
       "      <th>image_link</th>\n",
       "      <th>group_id</th>\n",
       "      <th>entity_name</th>\n",
       "      <th>entity_value</th>\n",
       "    </tr>\n",
       "  </thead>\n",
       "  <tbody>\n",
       "    <tr>\n",
       "      <th>0</th>\n",
       "      <td>https://m.media-amazon.com/images/I/61I9XdN6OF...</td>\n",
       "      <td>748919</td>\n",
       "      <td>item_weight</td>\n",
       "      <td>500.0 gram</td>\n",
       "    </tr>\n",
       "    <tr>\n",
       "      <th>1</th>\n",
       "      <td>https://m.media-amazon.com/images/I/71gSRbyXmo...</td>\n",
       "      <td>916768</td>\n",
       "      <td>item_volume</td>\n",
       "      <td>1.0 cup</td>\n",
       "    </tr>\n",
       "    <tr>\n",
       "      <th>2</th>\n",
       "      <td>https://m.media-amazon.com/images/I/61BZ4zrjZX...</td>\n",
       "      <td>459516</td>\n",
       "      <td>item_weight</td>\n",
       "      <td>0.709 gram</td>\n",
       "    </tr>\n",
       "    <tr>\n",
       "      <th>3</th>\n",
       "      <td>https://m.media-amazon.com/images/I/612mrlqiI4...</td>\n",
       "      <td>459516</td>\n",
       "      <td>item_weight</td>\n",
       "      <td>0.709 gram</td>\n",
       "    </tr>\n",
       "    <tr>\n",
       "      <th>4</th>\n",
       "      <td>https://m.media-amazon.com/images/I/617Tl40LOX...</td>\n",
       "      <td>731432</td>\n",
       "      <td>item_weight</td>\n",
       "      <td>1400 milligram</td>\n",
       "    </tr>\n",
       "  </tbody>\n",
       "</table>\n",
       "</div>"
      ],
      "text/plain": [
       "                                          image_link  group_id  entity_name  \\\n",
       "0  https://m.media-amazon.com/images/I/61I9XdN6OF...    748919  item_weight   \n",
       "1  https://m.media-amazon.com/images/I/71gSRbyXmo...    916768  item_volume   \n",
       "2  https://m.media-amazon.com/images/I/61BZ4zrjZX...    459516  item_weight   \n",
       "3  https://m.media-amazon.com/images/I/612mrlqiI4...    459516  item_weight   \n",
       "4  https://m.media-amazon.com/images/I/617Tl40LOX...    731432  item_weight   \n",
       "\n",
       "     entity_value  \n",
       "0      500.0 gram  \n",
       "1         1.0 cup  \n",
       "2      0.709 gram  \n",
       "3      0.709 gram  \n",
       "4  1400 milligram  "
      ]
     },
     "execution_count": 4,
     "metadata": {},
     "output_type": "execute_result"
    }
   ],
   "source": [
    "f.head()"
   ]
  },
  {
   "cell_type": "code",
   "execution_count": 4,
   "id": "aa7122d3-4f93-4b8e-813a-a48a23b2249d",
   "metadata": {},
   "outputs": [],
   "source": [
    "path = r\"C:\\Users\\DELL\\Amazon_Challenge\\dataset\""
   ]
  },
  {
   "cell_type": "code",
   "execution_count": 5,
   "id": "f6806b2b-3a0b-4e3f-8de4-e2d941fe2690",
   "metadata": {},
   "outputs": [],
   "source": [
    "leng = len(f)\n",
    "    "
   ]
  },
  {
   "cell_type": "code",
   "execution_count": null,
   "id": "295a2870-e05b-42cd-9ed8-e3144311ffee",
   "metadata": {},
   "outputs": [],
   "source": [
    "leng"
   ]
  },
  {
   "cell_type": "code",
   "execution_count": null,
   "id": "1703ab3b-443d-4b4d-923e-83f1f4eb7bb2",
   "metadata": {},
   "outputs": [
    {
     "name": "stderr",
     "output_type": "stream",
     "text": [
      "  0%|                                                                                           | 0/51 [00:00<?, ?it/s]"
     ]
    }
   ],
   "source": [
    "for i in range(leng):\n",
    "\n",
    "    download_images(f['image_link'][i], path , allow_multiprocessing=True)"
   ]
  },
  {
   "cell_type": "code",
   "execution_count": null,
   "id": "9b92840b-0a54-4e9d-95f1-43e76f9e2275",
   "metadata": {},
   "outputs": [],
   "source": [
    "5 + 3"
   ]
  },
  {
   "cell_type": "code",
   "execution_count": null,
   "id": "8964579b-51fb-4e63-a875-413acb5da8b1",
   "metadata": {},
   "outputs": [],
   "source": []
  }
 ],
 "metadata": {
  "kernelspec": {
   "display_name": "Python 3 (ipykernel)",
   "language": "python",
   "name": "python3"
  },
  "language_info": {
   "codemirror_mode": {
    "name": "ipython",
    "version": 3
   },
   "file_extension": ".py",
   "mimetype": "text/x-python",
   "name": "python",
   "nbconvert_exporter": "python",
   "pygments_lexer": "ipython3",
   "version": "3.12.5"
  }
 },
 "nbformat": 4,
 "nbformat_minor": 5
}
